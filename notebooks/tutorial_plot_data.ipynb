{
 "cells": [
  {
   "cell_type": "code",
   "execution_count": null,
   "metadata": {},
   "outputs": [],
   "source": [
    "%pylab inline\n",
    "import os\n",
    "import rhk_sm4.rhk_sm4 as sm4"
   ]
  },
  {
   "cell_type": "code",
   "execution_count": null,
   "metadata": {},
   "outputs": [],
   "source": [
    "repo_dir = os.path.dirname(os.getcwd())\n",
    "fn = os.path.join(\n",
    "    repo_dir,\n",
    "    'data',\n",
    "    '2020-04-13_010_V_map1_0080.sm4'\n",
    ")\n",
    "f = sm4.load_sm4(fn)"
   ]
  },
  {
   "cell_type": "code",
   "execution_count": null,
   "metadata": {},
   "outputs": [],
   "source": [
    "#It tells you what are the information within the page\n",
    "f.print_info()"
   ]
  },
  {
   "cell_type": "code",
   "execution_count": null,
   "metadata": {},
   "outputs": [],
   "source": [
    "#All the data are stored in the f.data attribute. Refering the info to see which one you want to access\n",
    "y = f[1].data[0]"
   ]
  },
  {
   "cell_type": "code",
   "execution_count": null,
   "metadata": {},
   "outputs": [],
   "source": [
    "#All the details of the data are stored in the header function, refering to the page information to see which one you need.\n",
    "f[1].attrs"
   ]
  },
  {
   "cell_type": "code",
   "execution_count": null,
   "metadata": {},
   "outputs": [],
   "source": [
    "#This is the spectroscopy's x axis \n",
    "x = f[1].coords[1][1]"
   ]
  },
  {
   "cell_type": "code",
   "execution_count": null,
   "metadata": {},
   "outputs": [],
   "source": [
    "figure(figsize=[6, 3]); ax = subplot(111)\n",
    "\n",
    "plot(x,y, 'd')\n",
    "\n",
    "ax.set_xlabel('V (mV)')\n",
    "ax.set_ylabel('dF')\n",
    "\n",
    "tight_layout()"
   ]
  },
  {
   "cell_type": "markdown",
   "metadata": {},
   "source": [
    "I will try the old data I had, which is a big 256 X 256 map with 128 X 128 spectroscopy "
   ]
  },
  {
   "cell_type": "code",
   "execution_count": null,
   "metadata": {},
   "outputs": [],
   "source": [
    "fn2 = os.path.join(\n",
    "    repo_dir,\n",
    "    'data',\n",
    "    'Vanadium_0179.sm4'\n",
    ")\n",
    "f2 = sm4.load_sm4(fn2)"
   ]
  },
  {
   "cell_type": "code",
   "execution_count": null,
   "metadata": {},
   "outputs": [],
   "source": [
    "f2.print_info()"
   ]
  },
  {
   "cell_type": "code",
   "execution_count": null,
   "metadata": {},
   "outputs": [],
   "source": [
    "f2[2].data.shape"
   ]
  },
  {
   "cell_type": "code",
   "execution_count": null,
   "metadata": {},
   "outputs": [],
   "source": [
    "imshow(f2[2].data)"
   ]
  },
  {
   "cell_type": "markdown",
   "metadata": {},
   "source": [
    "In this data file, I can access the topography f2.Z, current spectroscopy maps f2.I, average of current spectroscopy maps f2.iv, dIdV maps, f2.LIY, average of dIdV maps f2.didv, standard deviation of dIdV maps f2.didvStd, and of course the bias of the maps f2.en "
   ]
  },
  {
   "cell_type": "code",
   "execution_count": null,
   "metadata": {},
   "outputs": [],
   "source": [
    "# 16384 spectrscopies and each spectroscopy has 201 points.\n",
    "f2[9].data.shape"
   ]
  },
  {
   "cell_type": "code",
   "execution_count": null,
   "metadata": {},
   "outputs": [],
   "source": [
    "f2[9].coords[1][1].shape"
   ]
  },
  {
   "cell_type": "code",
   "execution_count": null,
   "metadata": {},
   "outputs": [],
   "source": [
    "#Plot the average one of the I-V curves\n",
    "figure(figsize=[6, 3]); ax = subplot(111)\n",
    "\n",
    "plot(f2[9].coords[1][1], f2[9].data[0]*1e9, 'd')\n",
    "\n",
    "ax.set_xlabel('V (V)')\n",
    "ax.set_ylabel('I (nA)')\n",
    "\n",
    "\n",
    "tight_layout()"
   ]
  },
  {
   "cell_type": "code",
   "execution_count": null,
   "metadata": {},
   "outputs": [],
   "source": [
    "#Plot the average from one of the 16384 didv curves --- NOT SURE HOW TO DO THIS\n",
    "#figure(figsize=[6, 3]); ax = subplot(111)\n",
    "\n",
    "#plot(f2.en, f2.didv*1e12, 'd')\n",
    "\n",
    "#ax.set_xlabel('V (V)')\n",
    "#ax.set_ylabel('dI/dV (a.u.)')\n",
    "\n",
    "\n",
    "#tight_layout()"
   ]
  },
  {
   "cell_type": "code",
   "execution_count": null,
   "metadata": {},
   "outputs": [],
   "source": []
  },
  {
   "cell_type": "code",
   "execution_count": null,
   "metadata": {},
   "outputs": [],
   "source": []
  },
  {
   "cell_type": "code",
   "execution_count": null,
   "metadata": {},
   "outputs": [],
   "source": []
  },
  {
   "cell_type": "code",
   "execution_count": null,
   "metadata": {},
   "outputs": [],
   "source": []
  },
  {
   "cell_type": "code",
   "execution_count": null,
   "metadata": {},
   "outputs": [],
   "source": []
  },
  {
   "cell_type": "code",
   "execution_count": null,
   "metadata": {},
   "outputs": [],
   "source": []
  },
  {
   "cell_type": "code",
   "execution_count": null,
   "metadata": {},
   "outputs": [],
   "source": []
  }
 ],
 "metadata": {
  "kernelspec": {
   "display_name": "Python 3 (ipykernel)",
   "language": "python",
   "name": "python3"
  },
  "language_info": {
   "codemirror_mode": {
    "name": "ipython",
    "version": 3
   },
   "file_extension": ".py",
   "mimetype": "text/x-python",
   "name": "python",
   "nbconvert_exporter": "python",
   "pygments_lexer": "ipython3",
   "version": "3.9.7"
  },
  "toc": {
   "base_numbering": 1,
   "nav_menu": {},
   "number_sections": true,
   "sideBar": true,
   "skip_h1_title": false,
   "title_cell": "Table of Contents",
   "title_sidebar": "Contents",
   "toc_cell": false,
   "toc_position": {},
   "toc_section_display": true,
   "toc_window_display": false
  }
 },
 "nbformat": 4,
 "nbformat_minor": 4
}
